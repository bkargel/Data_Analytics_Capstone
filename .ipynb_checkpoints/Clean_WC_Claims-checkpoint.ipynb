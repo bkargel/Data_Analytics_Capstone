{
 "cells": [
  {
   "cell_type": "code",
   "execution_count": 1,
   "id": "11b05906-2548-44a6-a73a-5cab93f2dbdc",
   "metadata": {
    "tags": []
   },
   "outputs": [
    {
     "name": "stdout",
     "output_type": "stream",
     "text": [
      "Number of Rows: 4843711\n",
      "Number of Columns: 54\n"
     ]
    }
   ],
   "source": [
    "import pandas as pd\n",
    "\n",
    "input_file = 'WC_Claims_Beginning_2000.csv'\n",
    "filtered_output_file = 'WC_Claims_filtered.csv'\n",
    "final_output_file = 'WC_Claims_2020-2022.csv'\n",
    "\n",
    "# Read the CSV file into a DataFrame\n",
    "df = pd.read_csv(input_file)\n",
    "\n",
    "# Get the number of rows and columns\n",
    "num_rows, num_columns = df.shape\n",
    "\n",
    "print(f\"Number of Rows: {num_rows}\")\n",
    "print(f\"Number of Columns: {num_columns}\")"
   ]
  },
  {
   "cell_type": "code",
   "execution_count": 2,
   "id": "f3fa421c-6588-449f-a793-24e7c9aa942f",
   "metadata": {
    "tags": []
   },
   "outputs": [
    {
     "name": "stdout",
     "output_type": "stream",
     "text": [
      "Accident                                                       Y\n",
      "Accident Date                                         10/02/2000\n",
      "Age at Injury                                                 32\n",
      "Alternative Dispute Resolution                                 Y\n",
      "ANCR Date                                                    NaN\n",
      "Assembly Date                                         10/13/2000\n",
      "Attorney/Representative                                        N\n",
      "Average Weekly Wage                                          0.0\n",
      "Birth Year                                                  1968\n",
      "C-2 Date                                                     NaN\n",
      "C-3 Date                                                     NaN\n",
      "Carrier Name                                ELECTRICAL EMPLOYERS\n",
      "Carrier Type                                    4A. SELF PRIVATE\n",
      "Claim Identifier                                            5031\n",
      "Claim Injury Type                                    2. NON-COMP\n",
      "Claim Type                            WORKERS COMPENSATION CLAIM\n",
      "Closed Count                                                   1\n",
      "Controverted Date                                            NaN\n",
      "County of Injury                                        NEW YORK\n",
      "COVID-19 Indicator                                             N\n",
      "Current Claim Status                     ADMINISTRATIVELY CLOSED\n",
      "District Name                                                NYC\n",
      "First Appeal Date                                            NaN\n",
      "First Hearing Date                                           NaN\n",
      "Gender                                                         M\n",
      "Hearing Count                                                  0\n",
      "Highest Process                               1.  NO RESOLUTIONS\n",
      "IME-4 Count                                                  NaN\n",
      "Industry Code                                                NaN\n",
      "Industry Code Description                                    NaN\n",
      "Interval Assembled to ANCR                                   NaN\n",
      "Medical Fee Region                                            IV\n",
      "Occupational Disease                                           N\n",
      "OIICS Event Exposure Code                                    NaN\n",
      "OIICS Event Exposure Description                             NaN\n",
      "OIICS Injury Source Code                                     NaN\n",
      "OIICS Injury Source Description                              NaN\n",
      "OIICS Nature of Injury Code                                  NaN\n",
      "OIICS Nature of Injury Description                           NaN\n",
      "OIICS Part Of Body Code                                      NaN\n",
      "OIICS Part Of Body Description                               NaN\n",
      "OIICS Secondary Source Code                                  NaN\n",
      "OIICS Secondary Source Description                           NaN\n",
      "PPD Non-Scheduled Loss Date                                  NaN\n",
      "PPD Scheduled Loss Date                                      NaN\n",
      "PTD Date                                                     NaN\n",
      "Section 32 Date                                              NaN\n",
      "WCIO Cause of Injury Code                                    NaN\n",
      "WCIO Cause of Injury Description                             NaN\n",
      "WCIO Nature of Injury Code                                   NaN\n",
      "WCIO Nature of Injury Description                            NaN\n",
      "WCIO Part Of Body Code                                       NaN\n",
      "WCIO Part Of Body Description                                NaN\n",
      "Zip Code                                                   11432\n",
      "Name: 0, dtype: object\n"
     ]
    }
   ],
   "source": [
    "first_row = df.iloc[0]\n",
    "\n",
    "print(first_row)"
   ]
  },
  {
   "cell_type": "code",
   "execution_count": 3,
   "id": "db63e786-d1d6-45a9-9c4d-f277b238ec13",
   "metadata": {
    "tags": []
   },
   "outputs": [],
   "source": [
    "import csv\n",
    "from datetime import datetime\n",
    "\n",
    "def is_date_in_range(date_str, start_year, end_year):\n",
    "    try:\n",
    "        date = datetime.strptime(date_str, \"%m/%d/%Y\")\n",
    "        year = date.year\n",
    "        return start_year <= year <= end_year\n",
    "    except ValueError:\n",
    "        return False\n",
    "\n",
    "filtered_rows = []\n",
    "\n",
    "with open(input_file, 'r', newline='') as infile:\n",
    "    reader = csv.reader(infile)\n",
    "    header = next(reader)\n",
    "\n",
    "    for row in reader:\n",
    "        date_column_index = 1  # This is the Accident Date column\n",
    "        accident_date = row[date_column_index]\n",
    "\n",
    "        if is_date_in_range(accident_date, 2020, 2022):\n",
    "            filtered_rows.append(row)\n",
    "\n",
    "with open(filtered_output_file, 'w', newline='') as outfile:\n",
    "    writer = csv.writer(outfile)\n",
    "    writer.writerow(header)\n",
    "    writer.writerows(filtered_rows)"
   ]
  },
  {
   "cell_type": "code",
   "execution_count": 4,
   "id": "bf059e58-974e-4d0d-8fb6-7a4f29df4807",
   "metadata": {
    "tags": []
   },
   "outputs": [
    {
     "name": "stderr",
     "output_type": "stream",
     "text": [
      "C:\\Users\\bakar\\AppData\\Local\\Temp\\ipykernel_2112\\803735320.py:1: DtypeWarning: Columns (33,34,35,36,37,38,39,40,41,42,45) have mixed types. Specify dtype option on import or set low_memory=False.\n",
      "  df = pd.read_csv(filtered_output_file)\n"
     ]
    }
   ],
   "source": [
    "df = pd.read_csv(filtered_output_file)\n",
    "\n",
    "# Define the columns to remove\n",
    "columns_to_remove = ['ANCR Date', 'Assembly Date', 'Average Weekly Wage', 'Birth Year', 'C-2 Date', 'C-3 Date',\n",
    "                    'Controverted Date', 'IME-4 Count', 'Interval Assembled to ANCR', 'Medical Fee Region', 'OIICS Event Exposure Code',\n",
    "                    'OIICS Event Exposure Description', 'OIICS Injury Source Code', 'OIICS Injury Source Description',\n",
    "                    'OIICS Nature of Injury Code', 'OIICS Nature of Injury Description', 'OIICS Part Of Body Code', \n",
    "                    'OIICS Part Of Body Description', 'OIICS Secondary Source Code', 'OIICS Secondary Source Description',\n",
    "                    'PPD Non-Scheduled Loss Date', 'PPD Scheduled Loss Date', 'PTD Date', 'Section 32 Date']  \n",
    "\n",
    "# Drop the specified columns\n",
    "df = df.drop(columns=columns_to_remove)\n",
    "\n",
    "# Write the modified DataFrame to a new CSV file\n",
    "df.to_csv(final_output_file, index=False)"
   ]
  },
  {
   "cell_type": "code",
   "execution_count": 6,
   "id": "f1f9c1ce-defe-4168-b340-716a7fb66baa",
   "metadata": {
    "tags": []
   },
   "outputs": [
    {
     "name": "stdout",
     "output_type": "stream",
     "text": [
      "Number of Rows: 752926\n",
      "Number of Columns: 30\n"
     ]
    }
   ],
   "source": [
    "df = pd.read_csv(final_output_file)\n",
    "\n",
    "# Get the number of rows and columns\n",
    "num_rows, num_columns = df.shape\n",
    "\n",
    "print(f\"Number of Rows: {num_rows}\")\n",
    "print(f\"Number of Columns: {num_columns}\")"
   ]
  },
  {
   "cell_type": "code",
   "execution_count": null,
   "id": "603bad8f-43ac-4d63-b664-91d5558f1162",
   "metadata": {},
   "outputs": [],
   "source": []
  }
 ],
 "metadata": {
  "kernelspec": {
   "display_name": "Python 3 (ipykernel)",
   "language": "python",
   "name": "python3"
  },
  "language_info": {
   "codemirror_mode": {
    "name": "ipython",
    "version": 3
   },
   "file_extension": ".py",
   "mimetype": "text/x-python",
   "name": "python",
   "nbconvert_exporter": "python",
   "pygments_lexer": "ipython3",
   "version": "3.11.4"
  }
 },
 "nbformat": 4,
 "nbformat_minor": 5
}
