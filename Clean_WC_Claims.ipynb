{
 "cells": [
  {
   "cell_type": "markdown",
   "id": "6fdda813-6e46-4993-b0a6-d51988759e1d",
   "metadata": {},
   "source": [
    "# Cleaning the Data"
   ]
  },
  {
   "cell_type": "markdown",
   "id": "318068e6-d08e-4648-b3a0-754ac170b290",
   "metadata": {},
   "source": [
    "## Get information about the data"
   ]
  },
  {
   "cell_type": "code",
   "execution_count": 1,
   "id": "11b05906-2548-44a6-a73a-5cab93f2dbdc",
   "metadata": {
    "tags": []
   },
   "outputs": [
    {
     "name": "stdout",
     "output_type": "stream",
     "text": [
      "Number of Rows: 4843711\n",
      "Number of Columns: 54\n"
     ]
    }
   ],
   "source": [
    "#import pandas for use in cleaning data and print number of columns and rows\n",
    "import pandas as pd\n",
    "\n",
    "input_file = 'WC_Claims_Beginning_2000.csv'\n",
    "filtered_output_file = 'WC_Claims_filtered.csv'\n",
    "final_output_file = 'WC_Claims_2020-2022.csv'\n",
    "\n",
    "# Read the CSV file into a DataFrame\n",
    "df = pd.read_csv(input_file)\n",
    "\n",
    "# Get the number of rows and columns\n",
    "num_rows, num_columns = df.shape\n",
    "\n",
    "print(f\"Number of Rows: {num_rows}\")\n",
    "print(f\"Number of Columns: {num_columns}\")"
   ]
  },
  {
   "cell_type": "code",
   "execution_count": 2,
   "id": "f3fa421c-6588-449f-a793-24e7c9aa942f",
   "metadata": {
    "tags": []
   },
   "outputs": [
    {
     "name": "stdout",
     "output_type": "stream",
     "text": [
      "Accident                                                       Y\n",
      "Accident Date                                         10/02/2000\n",
      "Age at Injury                                                 32\n",
      "Alternative Dispute Resolution                                 Y\n",
      "ANCR Date                                                    NaN\n",
      "Assembly Date                                         10/13/2000\n",
      "Attorney/Representative                                        N\n",
      "Average Weekly Wage                                          0.0\n",
      "Birth Year                                                  1968\n",
      "C-2 Date                                                     NaN\n",
      "C-3 Date                                                     NaN\n",
      "Carrier Name                                ELECTRICAL EMPLOYERS\n",
      "Carrier Type                                    4A. SELF PRIVATE\n",
      "Claim Identifier                                            5031\n",
      "Claim Injury Type                                    2. NON-COMP\n",
      "Claim Type                            WORKERS COMPENSATION CLAIM\n",
      "Closed Count                                                   1\n",
      "Controverted Date                                            NaN\n",
      "County of Injury                                        NEW YORK\n",
      "COVID-19 Indicator                                             N\n",
      "Current Claim Status                     ADMINISTRATIVELY CLOSED\n",
      "District Name                                                NYC\n",
      "First Appeal Date                                            NaN\n",
      "First Hearing Date                                           NaN\n",
      "Gender                                                         M\n",
      "Hearing Count                                                  0\n",
      "Highest Process                               1.  NO RESOLUTIONS\n",
      "IME-4 Count                                                  NaN\n",
      "Industry Code                                                NaN\n",
      "Industry Code Description                                    NaN\n",
      "Interval Assembled to ANCR                                   NaN\n",
      "Medical Fee Region                                            IV\n",
      "Occupational Disease                                           N\n",
      "OIICS Event Exposure Code                                    NaN\n",
      "OIICS Event Exposure Description                             NaN\n",
      "OIICS Injury Source Code                                     NaN\n",
      "OIICS Injury Source Description                              NaN\n",
      "OIICS Nature of Injury Code                                  NaN\n",
      "OIICS Nature of Injury Description                           NaN\n",
      "OIICS Part Of Body Code                                      NaN\n",
      "OIICS Part Of Body Description                               NaN\n",
      "OIICS Secondary Source Code                                  NaN\n",
      "OIICS Secondary Source Description                           NaN\n",
      "PPD Non-Scheduled Loss Date                                  NaN\n",
      "PPD Scheduled Loss Date                                      NaN\n",
      "PTD Date                                                     NaN\n",
      "Section 32 Date                                              NaN\n",
      "WCIO Cause of Injury Code                                    NaN\n",
      "WCIO Cause of Injury Description                             NaN\n",
      "WCIO Nature of Injury Code                                   NaN\n",
      "WCIO Nature of Injury Description                            NaN\n",
      "WCIO Part Of Body Code                                       NaN\n",
      "WCIO Part Of Body Description                                NaN\n",
      "Zip Code                                                   11432\n",
      "Name: 0, dtype: object\n"
     ]
    }
   ],
   "source": [
    "# Show the name of all headers\n",
    "\n",
    "first_row = df.iloc[0]\n",
    "\n",
    "print(first_row)"
   ]
  },
  {
   "cell_type": "markdown",
   "id": "029a51a5-738a-4812-baff-6445bee6dd0f",
   "metadata": {},
   "source": [
    "## Begin Cleaning"
   ]
  },
  {
   "cell_type": "markdown",
   "id": "25bd73a9-ae7b-4ca3-ac54-77fafcdca63d",
   "metadata": {},
   "source": [
    "### Remove all records with accident date prior to 2020"
   ]
  },
  {
   "cell_type": "code",
   "execution_count": 3,
   "id": "db63e786-d1d6-45a9-9c4d-f277b238ec13",
   "metadata": {
    "tags": []
   },
   "outputs": [],
   "source": [
    "import csv\n",
    "from datetime import datetime\n",
    "\n",
    "def is_date_in_range(date_str, start_year, end_year):\n",
    "    try:\n",
    "        date = datetime.strptime(date_str, \"%m/%d/%Y\")\n",
    "        year = date.year\n",
    "        return start_year <= year <= end_year\n",
    "    except ValueError:\n",
    "        return False\n",
    "\n",
    "filtered_rows = []\n",
    "\n",
    "with open(input_file, 'r', newline='') as infile:\n",
    "    reader = csv.reader(infile)\n",
    "    header = next(reader)\n",
    "\n",
    "    for row in reader:\n",
    "        date_column_index = 1  # This is the Accident Date column\n",
    "        accident_date = row[date_column_index]\n",
    "\n",
    "        if is_date_in_range(accident_date, 2020, 2022):\n",
    "            filtered_rows.append(row)\n",
    "\n",
    "with open(filtered_output_file, 'w', newline='') as outfile:\n",
    "    writer = csv.writer(outfile)\n",
    "    writer.writerow(header)\n",
    "    writer.writerows(filtered_rows)"
   ]
  },
  {
   "cell_type": "markdown",
   "id": "ff8f0175-7f11-423d-a9ef-9f64938d5712",
   "metadata": {},
   "source": [
    "### Remove unneeded columns and rows and shorten some column names"
   ]
  },
  {
   "cell_type": "code",
   "execution_count": 4,
   "id": "676043d5-3e1c-4fec-8c16-8f1e9e9c06ee",
   "metadata": {
    "tags": []
   },
   "outputs": [],
   "source": [
    "df = pd.read_csv(filtered_output_file, low_memory=False)\n",
    "\n",
    "# Keep only the specified columns\n",
    "df = df[['Accident', 'Accident Date', 'Age at Injury', 'Attorney/Representative', 'Claim Identifier', 'Claim Injury Type',\n",
    "        'Claim Type', 'Closed Count', 'Current Claim Status', 'Gender', 'Highest Process', 'Industry Code Description',\n",
    "        'WCIO Cause of Injury Description', 'WCIO Nature of Injury Description', 'WCIO Part Of Body Description']]\n",
    "\n",
    "# Only include rows where 'Gender' is not 'X' or 'U'\n",
    "df = df[(df['Gender'] != 'X') & (df['Gender'] != 'U')]\n",
    "\n",
    "# Rename long or awkward column names\n",
    "df.rename(columns={'Attorney/Representative': 'Represented'}, inplace=True)\n",
    "df.rename(columns={'WCIO Cause of Injury Description': 'Cause of Injury'}, inplace=True)\n",
    "df.rename(columns={'WCIO Nature of Injury Description': 'Nature of Injury'}, inplace=True)\n",
    "df.rename(columns={'WCIO Part Of Body Description': 'Part of Body'}, inplace=True)"
   ]
  },
  {
   "cell_type": "markdown",
   "id": "6d4ef58c-b3ff-4b2c-aa43-31623af33968",
   "metadata": {},
   "source": [
    "## Change categorical columns to numerical for ease of processing"
   ]
  },
  {
   "cell_type": "markdown",
   "id": "0ba28ffb-d1a8-444a-8f00-aeaf4496cc1b",
   "metadata": {},
   "source": [
    "Because having a hearing is all the same, whether it is for the judge, an appeal, or a settlement, all of the HEARING categories are set to a 4 and will be grouped together.\n",
    "\n",
    "Similarly, parts of the body are grouped together as 1. Arms/Hands, 2. Legs/Feet, 3. Mouth/Face, 4. Neck/Spine, 5. Heart/Internal Organs, 6. Hips/Pelvis, 7. Throat/Lungs, 8. Brain/Head, 9. Multiple Parts of Body, 10. No Physical Injury or Insufficient Data to Classify, and 11. Artificial Appliance."
   ]
  },
  {
   "cell_type": "code",
   "execution_count": 5,
   "id": "ff977196-87df-4ae9-9719-c4d574b5de98",
   "metadata": {},
   "outputs": [],
   "source": [
    "# Convert 'Highest Process' column to numbers for easier processing\n",
    "df['Highest Process'] = df['Highest Process'].replace({'1.  NO RESOLUTIONS': 1, '2. ADMINISTRATIVE DETERMINATION': 2,\n",
    "                                                       '3B. CONCILIATION - MEETING': 3,'4A. HEARING - JUDGE': 4,\n",
    "                                                       '4B. HEARING - APPEAL': 4,'4C. HEARING - SETTLEMENT': 4})\n",
    "\n",
    "# Merge 'Part of Body' to one area and convert 'Part of Body' column to numbers for easier processing\n",
    "df['Part of Body'] = df['Part of Body'].replace({'HAND': 1, 'FINGER(S)': 1, 'UPPER ARM': 1, 'SHOULDER(S)': 1,'ELBOW': 1,\n",
    "                                                'LOWER ARM': 1, 'WRIST': 1, 'WRIST (S) & HAND(S)': 1, 'THUMB': 1,'KNEE': 2,\n",
    "                                                'ANKLE': 2, 'LOWER LEG': 2, 'FOOT': 2, 'TOES': 2, 'UPPER LEG': 2,\n",
    "                                                'GREAT TOE': 2, 'EYE(S)': 3, 'TEETH': 3, 'FACIAL BONES': 3, 'NOSE': 3,\n",
    "                                                'EAR(S)': 3, 'MOUTH': 3, 'LOWER BACK AREA': 4, 'MULTIPLE NECK INJURY': 4,\n",
    "                                                'SPINAL CORD': 4, 'LUMBAR & OR SACRAL VERTEBRAE (VERTEBRA': 4,\n",
    "                                                'UPPER BACK AREA': 4, 'DISC': 4, 'VERTEBRAE': 4, 'SOFT TISSUE': 5, 'LUNGS': 7,\n",
    "                                                'INTERNAL ORGANS': 5, 'HEART': 5, 'HIP': 6, 'BUTTOCKS': 6, 'PELVIS': 6,\n",
    "                                                'SACRUM AND COCCYX': 6, 'LARYNX': 7, 'TRACHEA': 7, 'SKULL': 8, 'BRAIN': 8,\n",
    "                                                'MULTIPLE HEAD INJURY': 8, 'MULTIPLE UPPER EXTREMITIES': 1, 'MULTIPLE': 9,\n",
    "                                                'MULTIPLE LOWER EXTREMITIES': 2, 'MULTIPLE TRUNK': 9, 'NO PHYSICAL INJURY': 10,\n",
    "                                                'INSUFFICIENT INFO TO PROPERLY IDENTIFY - UNCLASSIFIED': 10, \n",
    "                                                'BODY SYSTEMS AND MULTIPLE BODY SYSTEMS': 9, 'ABDOMEN INCLUDING GROIN': 5,\n",
    "                                                'CHEST': 7, 'WHOLE BODY': 9, 'MULTIPLE BODY PARTS (INCLUDING BODY': 9,\n",
    "                                                'ARTIFICIAL APPLIANCE': 11})\n",
    "\n",
    "# Replace NaN with 10 for No Injury or No data\n",
    "df['Part of Body'] = df['Part of Body'].fillna(10)\n",
    "\n",
    "# Convert 'Represented' column to numbers for easier processing\n",
    "df['Represented'] = df['Represented'].replace({'Y': 1, 'N': 0})\n",
    "\n",
    "# Convert 'Gender' column to numbers for easier processing\n",
    "df['Gender'] = df['Gender'].replace({'F': 1, 'M': 0})\n",
    "\n",
    "# Write the modified DataFrame to a new CSV file\n",
    "df.to_csv(final_output_file, index=False)"
   ]
  },
  {
   "cell_type": "markdown",
   "id": "d21f5b4e-bf8c-48a1-864d-63a6698f9c4d",
   "metadata": {},
   "source": [
    "## Verify record and column counts for clean data"
   ]
  },
  {
   "cell_type": "code",
   "execution_count": 6,
   "id": "f1f9c1ce-defe-4168-b340-716a7fb66baa",
   "metadata": {
    "tags": []
   },
   "outputs": [
    {
     "name": "stdout",
     "output_type": "stream",
     "text": [
      "Number of Rows: 746216\n",
      "Number of Columns: 15\n"
     ]
    }
   ],
   "source": [
    "df = pd.read_csv(final_output_file)\n",
    "\n",
    "# Get the number of rows and columns\n",
    "num_rows, num_columns = df.shape\n",
    "\n",
    "print(f\"Number of Rows: {num_rows}\")\n",
    "print(f\"Number of Columns: {num_columns}\")"
   ]
  },
  {
   "cell_type": "code",
   "execution_count": 7,
   "id": "124e1e9b-c7b4-4c55-9f8a-6d75d16cddd3",
   "metadata": {
    "tags": []
   },
   "outputs": [
    {
     "name": "stdout",
     "output_type": "stream",
     "text": [
      "Unique values in 'Claim Injury Type' column:\n",
      "['1. CANCELLED' '2. NON-COMP' '4. TEMPORARY' '3. MED ONLY'\n",
      " '5. PPD SCH LOSS' '6. PPD NSL' '8. DEATH' '7. PTD']\n"
     ]
    }
   ],
   "source": [
    "# List all unique values in the 'Claim Injury Type' column\n",
    "unique_values = df['Claim Injury Type'].unique()\n",
    "\n",
    "# Print the unique values\n",
    "print(\"Unique values in 'Claim Injury Type' column:\")\n",
    "print(unique_values)"
   ]
  },
  {
   "cell_type": "code",
   "execution_count": 8,
   "id": "603bad8f-43ac-4d63-b664-91d5558f1162",
   "metadata": {},
   "outputs": [
    {
     "name": "stdout",
     "output_type": "stream",
     "text": [
      "Accident                      object\n",
      "Accident Date                 object\n",
      "Age at Injury                  int64\n",
      "Represented                    int64\n",
      "Claim Identifier               int64\n",
      "Claim Injury Type             object\n",
      "Claim Type                    object\n",
      "Closed Count                   int64\n",
      "Current Claim Status          object\n",
      "Gender                         int64\n",
      "Highest Process                int64\n",
      "Industry Code Description     object\n",
      "Cause of Injury               object\n",
      "Nature of Injury              object\n",
      "Part of Body                 float64\n",
      "dtype: object\n"
     ]
    }
   ],
   "source": [
    "import pandas as pd\n",
    "final_output_file = 'WC_Claims_2020-2022.csv'\n",
    "df = pd.read_csv(final_output_file)\n",
    "print(df.dtypes)"
   ]
  },
  {
   "cell_type": "code",
   "execution_count": 9,
   "id": "ddb55974-80af-48c9-b8f8-344b37904ff2",
   "metadata": {},
   "outputs": [
    {
     "name": "stdout",
     "output_type": "stream",
     "text": [
      "Accident                                              Y\n",
      "Accident Date                                06/01/2021\n",
      "Age at Injury                                        69\n",
      "Represented                                           1\n",
      "Claim Identifier                                5798945\n",
      "Claim Injury Type                          1. CANCELLED\n",
      "Claim Type                   WORKERS COMPENSATION CLAIM\n",
      "Closed Count                                          3\n",
      "Current Claim Status                     CASE CANCELLED\n",
      "Gender                                                0\n",
      "Highest Process                                       2\n",
      "Industry Code Description          EDUCATIONAL SERVICES\n",
      "Cause of Injury                       REPETITIVE MOTION\n",
      "Nature of Injury                 CARPAL TUNNEL SYNDROME\n",
      "Part of Body                                        1.0\n",
      "Name: 0, dtype: object\n"
     ]
    }
   ],
   "source": [
    "first_row = df.iloc[0]\n",
    "\n",
    "print(first_row)"
   ]
  },
  {
   "cell_type": "code",
   "execution_count": 10,
   "id": "b30f516f-84e6-45c4-b954-dba8d1a4a16c",
   "metadata": {
    "tags": []
   },
   "outputs": [
    {
     "name": "stdout",
     "output_type": "stream",
     "text": [
      "Unique values in 'Part of Body' column:\n",
      "[ 1.  2.  3.  4.  5.  9.  8.  6.  7. 10. 11.]\n"
     ]
    }
   ],
   "source": [
    "final_output_file = 'WC_Claims_2020-2022.csv'\n",
    "df = pd.read_csv(final_output_file)\n",
    "\n",
    "# List all unique values in the 'Part of Body' column\n",
    "unique_values = df['Part of Body'].unique()\n",
    "\n",
    "# Print the unique values\n",
    "print(\"Unique values in 'Part of Body' column:\")\n",
    "print(unique_values)"
   ]
  },
  {
   "cell_type": "code",
   "execution_count": null,
   "id": "291c35da-e2b0-4390-8274-4609002d6bbc",
   "metadata": {},
   "outputs": [],
   "source": []
  }
 ],
 "metadata": {
  "kernelspec": {
   "display_name": "Python 3 (ipykernel)",
   "language": "python",
   "name": "python3"
  },
  "language_info": {
   "codemirror_mode": {
    "name": "ipython",
    "version": 3
   },
   "file_extension": ".py",
   "mimetype": "text/x-python",
   "name": "python",
   "nbconvert_exporter": "python",
   "pygments_lexer": "ipython3",
   "version": "3.11.4"
  }
 },
 "nbformat": 4,
 "nbformat_minor": 5
}
