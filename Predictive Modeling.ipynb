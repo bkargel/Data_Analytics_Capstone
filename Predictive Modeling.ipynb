{
 "cells": [
  {
   "cell_type": "markdown",
   "id": "1bc11a1c-b433-4221-a2f8-9bc70ca33a97",
   "metadata": {},
   "source": [
    "# Predictive Modeling"
   ]
  },
  {
   "cell_type": "markdown",
   "id": "eb79b0ec-d220-493a-b798-da29fc80d151",
   "metadata": {},
   "source": [
    "## Decision Tree Classifier using Industry and Highest Process"
   ]
  },
  {
   "cell_type": "markdown",
   "id": "2a479f71-6f74-4f16-947d-91f185bd272a",
   "metadata": {},
   "source": [
    "Attempting to build a model using just industry was not successful, as shown by the accuracy score of 0.5813"
   ]
  },
  {
   "cell_type": "code",
   "execution_count": 1,
   "id": "9a86940e-29cc-40ce-a451-5eb825979166",
   "metadata": {
    "tags": []
   },
   "outputs": [
    {
     "name": "stdout",
     "output_type": "stream",
     "text": [
      "Accuracy: 0.5813634048939991\n"
     ]
    }
   ],
   "source": [
    "import pandas as pd\n",
    "from sklearn.model_selection import train_test_split\n",
    "from sklearn.tree import DecisionTreeClassifier\n",
    "from sklearn.metrics import accuracy_score, classification_report\n",
    "\n",
    "final_output_file = 'WC_Claims_2020-2022.csv'\n",
    "df = pd.read_csv(final_output_file)\n",
    "\n",
    "#'age': df['Age at Injury'],\n",
    "#        'gender': df['Gender'],\n",
    "    \n",
    "data = {'industry': df['Industry Code Description'],\n",
    "        'highest_process': df['Highest Process']}\n",
    "df = pd.DataFrame(data)\n",
    "\n",
    "# One-hot encode categorical columns\n",
    "df = pd.get_dummies(df, columns=['industry'], drop_first=True)\n",
    "\n",
    "# Split the data into independent and dependent variables\n",
    "X = df.drop('highest_process', axis=1)\n",
    "y = df['highest_process']\n",
    "\n",
    "# Split the data into training and testing sets\n",
    "X_train, X_test, y_train, y_test = train_test_split(X, y, test_size=0.2, random_state=42)\n",
    "\n",
    "# Create a decision tree classifier\n",
    "model = DecisionTreeClassifier(random_state=42)\n",
    "\n",
    "# Train the model\n",
    "model.fit(X_train, y_train)\n",
    "\n",
    "# Make predictions on the test set\n",
    "y_pred = model.predict(X_test)\n",
    "\n",
    "# Evaluate the model\n",
    "accuracy = accuracy_score(y_test, y_pred)\n",
    "classification_report_result = classification_report(y_test, y_pred, zero_division=0)\n",
    "\n",
    "print(f\"Accuracy: {accuracy}\")"
   ]
  },
  {
   "cell_type": "markdown",
   "id": "0cb502c6-ac04-4dd3-aef5-aaee21b669c4",
   "metadata": {},
   "source": [
    "## Decision Tree Classifier using Age, Represented, Claim Injury Type, and Highest Process"
   ]
  },
  {
   "cell_type": "markdown",
   "id": "d0cd1079-86f5-44d2-bcf5-ce13915f07d0",
   "metadata": {},
   "source": [
    "After creating the decision tree model, the accuracy, precision, recall, and F1 scores were printed in order to evaluate the model. Due to the low number of records with the highest process of 3 (CONCILIATION - MEETING), precision, recall, and F1 scores were not available for that group. "
   ]
  },
  {
   "cell_type": "code",
   "execution_count": 2,
   "id": "83a2c26d-44c0-4593-a33d-a3a904318e83",
   "metadata": {
    "tags": []
   },
   "outputs": [
    {
     "name": "stdout",
     "output_type": "stream",
     "text": [
      "Accuracy: 0.8033086757256573\n",
      "Precision: [0.826981   0.74755205 0.         0.76111642]\n",
      "Recall: [0.95252694 0.49952357 0.         0.73743017]\n",
      "F1 score: [0.88532528 0.59887285 0.         0.7490861 ]\n",
      "Classification Report:\n",
      "               precision    recall  f1-score   support\n",
      "\n",
      "           1       0.83      0.95      0.89     86765\n",
      "           2       0.75      0.50      0.60     31484\n",
      "           3       0.00      0.00      0.00      1818\n",
      "           4       0.76      0.74      0.75     29177\n",
      "\n",
      "    accuracy                           0.80    149244\n",
      "   macro avg       0.58      0.55      0.56    149244\n",
      "weighted avg       0.79      0.80      0.79    149244\n",
      "\n"
     ]
    }
   ],
   "source": [
    "import pandas as pd\n",
    "from sklearn.model_selection import train_test_split\n",
    "from sklearn.tree import DecisionTreeClassifier\n",
    "from sklearn.metrics import accuracy_score, precision_score, recall_score, f1_score, classification_report\n",
    "\n",
    "final_output_file = 'WC_Claims_2020-2022.csv'\n",
    "df = pd.read_csv(final_output_file)\n",
    "\n",
    "data = {'age': df['Age at Injury'],\n",
    "        'represented': df['Represented'],\n",
    "        'claim_injury_type': df['Claim Injury Type'],\n",
    "        'highest_process': df['Highest Process']}\n",
    "                              \n",
    "df = pd.DataFrame(data)\n",
    "\n",
    "# One-hot encode the 'claim_injury_type' column\n",
    "df = pd.get_dummies(df, columns=['claim_injury_type'], drop_first=True)\n",
    "\n",
    "# Split the data into independent and dependent variables\n",
    "X = df.drop('highest_process', axis=1)\n",
    "y = df['highest_process']\n",
    "\n",
    "# Split the data into training and testing sets\n",
    "X_train, X_test, y_train, y_test = train_test_split(X, y, test_size=0.2, random_state=42)\n",
    "\n",
    "# Create a decision tree classifier\n",
    "model = DecisionTreeClassifier(random_state=42)\n",
    "\n",
    "# Train the model\n",
    "model.fit(X_train, y_train)\n",
    "\n",
    "# Make predictions on the test set\n",
    "y_pred = model.predict(X_test)\n",
    "\n",
    "# Evaluate the model\n",
    "accuracy = accuracy_score(y_test, y_pred)\n",
    "print(f\"Accuracy: {accuracy}\")\n",
    "precision = precision_score(y_test, y_pred, average=None, zero_division=0)\n",
    "print(f\"Precision: {precision}\")\n",
    "recall = recall_score(y_test, y_pred, average=None, zero_division=0)\n",
    "print(f\"Recall: {recall}\")\n",
    "f1_score = f1_score(y_test, y_pred, average=None, zero_division=0)\n",
    "print(f\"F1 score: {f1_score}\")\n",
    "classification_report_result = classification_report(y_test, y_pred, zero_division=0)\n",
    "print(\"Classification Report:\\n\", classification_report_result)\n"
   ]
  },
  {
   "cell_type": "markdown",
   "id": "7d96fa10-5e04-4ead-91a6-2656a521f255",
   "metadata": {},
   "source": [
    "## Logistic Regression, Random Forest, and Support Vector Machine"
   ]
  },
  {
   "cell_type": "code",
   "execution_count": null,
   "id": "1d9e3f27-9783-49c8-a126-87c86fa6756d",
   "metadata": {},
   "outputs": [
    {
     "name": "stdout",
     "output_type": "stream",
     "text": [
      "Logistic Regression Accuracy: 0.8015062582080351\n",
      "Logistic Regression Classification Report:\n",
      "               precision    recall  f1-score   support\n",
      "\n",
      "           1       0.83      0.95      0.89     86765\n",
      "           2       0.73      0.50      0.60     31484\n",
      "           3       0.00      0.00      0.00      1818\n",
      "           4       0.77      0.72      0.74     29177\n",
      "\n",
      "    accuracy                           0.80    149244\n",
      "   macro avg       0.58      0.54      0.56    149244\n",
      "weighted avg       0.78      0.80      0.79    149244\n",
      "\n",
      "\n",
      "Random Forest Accuracy: 0.8039318163544263\n",
      "Random Forest Classification Report:\n",
      "               precision    recall  f1-score   support\n",
      "\n",
      "           1       0.83      0.95      0.89     86765\n",
      "           2       0.74      0.50      0.60     31484\n",
      "           3       0.00      0.00      0.00      1818\n",
      "           4       0.76      0.74      0.75     29177\n",
      "\n",
      "    accuracy                           0.80    149244\n",
      "   macro avg       0.58      0.55      0.56    149244\n",
      "weighted avg       0.79      0.80      0.79    149244\n",
      "\n"
     ]
    }
   ],
   "source": [
    "import pandas as pd\n",
    "from sklearn.model_selection import train_test_split\n",
    "from sklearn.preprocessing import StandardScaler\n",
    "from sklearn.linear_model import LogisticRegression\n",
    "from sklearn.ensemble import RandomForestClassifier\n",
    "from sklearn.svm import SVC\n",
    "from sklearn.metrics import accuracy_score, classification_report\n",
    "\n",
    "final_output_file = 'WC_Claims_2020-2022.csv'\n",
    "df = pd.read_csv(final_output_file)\n",
    "\n",
    "data = {'represented': df['Represented'],\n",
    "        'claim_injury_type': df['Claim Injury Type'],\n",
    "        'body_part': df['Part of Body'],\n",
    "        'highest_process': df['Highest Process']}\n",
    "\n",
    "df = pd.DataFrame(data)\n",
    "\n",
    "# One-hot encode categorical columns\n",
    "df = pd.get_dummies(df, columns=['claim_injury_type',], drop_first=True)\n",
    "\n",
    "# Split the data into independent and dependent variables\n",
    "X = df.drop('highest_process', axis=1)\n",
    "y = df['highest_process']\n",
    "\n",
    "# Split the data into training and testing sets\n",
    "X_train, X_test, y_train, y_test = train_test_split(X, y, test_size=0.2, random_state=42)\n",
    "\n",
    "# Standardize features\n",
    "scaler = StandardScaler()\n",
    "X_train_scaled = scaler.fit_transform(X_train)\n",
    "X_test_scaled = scaler.transform(X_test)\n",
    "\n",
    "# Logistic Regression\n",
    "logreg_model = LogisticRegression(max_iter=1000, random_state=42)\n",
    "logreg_model.fit(X_train, y_train)\n",
    "logreg_pred = logreg_model.predict(X_test)\n",
    "print(\"Logistic Regression Accuracy:\", accuracy_score(y_test, logreg_pred))\n",
    "print(\"Logistic Regression Classification Report:\\n\", classification_report(y_test, logreg_pred, zero_division=0))\n",
    "\n",
    "# Random Forest\n",
    "rf_model = RandomForestClassifier(random_state=42)\n",
    "rf_model.fit(X_train, y_train)\n",
    "rf_pred = rf_model.predict(X_test)\n",
    "print(\"\\nRandom Forest Accuracy:\", accuracy_score(y_test, rf_pred))\n",
    "print(\"Random Forest Classification Report:\\n\", classification_report(y_test, rf_pred, zero_division=0))\n",
    "\n",
    "# Support Vector Machine (SVM)\n",
    "svm_model = SVC(random_state=42)\n",
    "svm_model.fit(X_train_scaled, y_train)\n",
    "svm_pred = svm_model.predict(X_test_scaled)\n",
    "print(\"\\nSupport Vector Machine Accuracy:\", accuracy_score(y_test, svm_pred))\n",
    "print(\"Support Vector Machine Classification Report:\\n\", classification_report(y_test, svm_pred))\n"
   ]
  },
  {
   "cell_type": "markdown",
   "id": "f5c187bd-7f35-430b-adbd-a3eeced0d1a4",
   "metadata": {},
   "source": [
    "The support vector is having trouble running, making it apparent that it is not the model that should be utilized."
   ]
  }
 ],
 "metadata": {
  "kernelspec": {
   "display_name": "Python 3 (ipykernel)",
   "language": "python",
   "name": "python3"
  },
  "language_info": {
   "codemirror_mode": {
    "name": "ipython",
    "version": 3
   },
   "file_extension": ".py",
   "mimetype": "text/x-python",
   "name": "python",
   "nbconvert_exporter": "python",
   "pygments_lexer": "ipython3",
   "version": "3.11.4"
  }
 },
 "nbformat": 4,
 "nbformat_minor": 5
}
